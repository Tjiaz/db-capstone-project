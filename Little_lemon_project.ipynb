{
 "cells": [
  {
   "cell_type": "code",
   "execution_count": 11,
   "id": "17807d0d",
   "metadata": {},
   "outputs": [],
   "source": [
    "import mysql.connector as connector\n",
    "from mysql.connector import errorcode"
   ]
  },
  {
   "cell_type": "code",
   "execution_count": 43,
   "id": "1b47a21f",
   "metadata": {},
   "outputs": [
    {
     "name": "stdout",
     "output_type": "stream",
     "text": [
      "database does not exist\n"
     ]
    }
   ],
   "source": [
    "try:\n",
    "    connection = connector.connect(user=\"Ola\",password=\"azeez\",database=\"little_lemon2\")\n",
    "    print(\"Connection to database successful\")\n",
    "except connector.Error as err:\n",
    "    if err.errno == errorcode.ER_ACCESS_DENIED_ERROR:\n",
    "        print(\"connection user or password are incorrect\")\n",
    "    elif err.errno == errorcode.ER_BAD_DB_ERROR:\n",
    "        print(\"database does not exist\")\n",
    "    else:\n",
    "        print(err)"
   ]
  },
  {
   "cell_type": "code",
   "execution_count": 47,
   "id": "92e965c6",
   "metadata": {},
   "outputs": [],
   "source": [
    "cursor=connection.cursor()"
   ]
  },
  {
   "cell_type": "code",
   "execution_count": 50,
   "id": "c4880f86",
   "metadata": {},
   "outputs": [],
   "source": [
    "create_database_query = \"\"\"CREATE DATABASE little_lemon2\"\"\""
   ]
  },
  {
   "cell_type": "code",
   "execution_count": 51,
   "id": "d32199b0",
   "metadata": {},
   "outputs": [],
   "source": [
    "use_database = \"\"\"USE little_lemon2\"\"\""
   ]
  },
  {
   "cell_type": "code",
   "execution_count": 52,
   "id": "ccd7536d",
   "metadata": {},
   "outputs": [
    {
     "data": {
      "text/plain": [
       "'little_lemon'"
      ]
     },
     "execution_count": 52,
     "metadata": {},
     "output_type": "execute_result"
    }
   ],
   "source": [
    "connection.database"
   ]
  },
  {
   "cell_type": "code",
   "execution_count": 39,
   "id": "fbe92185",
   "metadata": {},
   "outputs": [],
   "source": [
    "create_customer_table=\"\"\"CREATE TABLE Customers\n",
    "(CustomerID INT,\n",
    "OrderID INT,\n",
    "CustomerName VARCHAR(100),\n",
    "City VARCHAR(100),\n",
    "Country VARCHAR(100),\n",
    "PRIMARY KEY(CustomerID,OrderID))\"\"\""
   ]
  },
  {
   "cell_type": "code",
   "execution_count": 40,
   "id": "7588c0ce",
   "metadata": {},
   "outputs": [],
   "source": [
    "create_booking_table=\"\"\"CREATE TABLE Sales\n",
    "(SalesID INT AUTO_INCREMENT,\n",
    "Sales INT,\n",
    "Quantity INT NOT NULL,\n",
    "Discount INT NOT NULL, \n",
    "DeliveryCost INT NOT NULL,\n",
    "PRIMARY KEY (SalesID));\"\"\""
   ]
  },
  {
   "cell_type": "code",
   "execution_count": 41,
   "id": "bd57146a",
   "metadata": {},
   "outputs": [
    {
     "name": "stdout",
     "output_type": "stream",
     "text": [
      "('Bookings',)\n",
      "('little_view',)\n",
      "('MenuItems',)\n",
      "('Menus',)\n",
      "('Orders',)\n"
     ]
    }
   ],
   "source": [
    "cursor.execute(\"SHOW TABLES\")\n",
    "for table in cursor:\n",
    "    print(table)"
   ]
  },
  {
   "cell_type": "code",
   "execution_count": 58,
   "id": "3e821cd3",
   "metadata": {},
   "outputs": [],
   "source": [
    "insert_bookings = \"\"\"\n",
    "INSERT INTO Bookings (\n",
    "BookingID, \n",
    "TableNo, \n",
    "GuestFirstName, \n",
    "GuestLastName, \n",
    "BookingSlot, \n",
    "EmployeeID)\n",
    "VALUES\n",
    "(1,12,'Anna','Iversen','19:00:00',1),\n",
    "(2, 12, 'Joakim', 'Iversen', '19:00:00', 1),\n",
    "(3, 19, 'Vanessa', 'McCarthy', '15:00:00', 3),\n",
    "(4, 15, 'Marcos', 'Romero', '17:30:00', 4),\n",
    "(5, 5, 'Hiroki', 'Yamane', '18:30:00', 2),\n",
    "(6, 8, 'Diana', 'Pinto', '20:00:00', 5);\"\"\""
   ]
  },
  {
   "cell_type": "code",
   "execution_count": 59,
   "id": "0d5e1b5e",
   "metadata": {},
   "outputs": [],
   "source": [
    "connection.commit()"
   ]
  },
  {
   "cell_type": "code",
   "execution_count": 60,
   "id": "0185dc9d",
   "metadata": {},
   "outputs": [],
   "source": [
    "read_data_query =\"\"\"SELECT * FROM Bookings\"\"\""
   ]
  },
  {
   "cell_type": "code",
   "execution_count": 61,
   "id": "30c8a101",
   "metadata": {},
   "outputs": [],
   "source": [
    "cursor.execute(read_data_query)"
   ]
  },
  {
   "cell_type": "code",
   "execution_count": 62,
   "id": "99080b50",
   "metadata": {},
   "outputs": [],
   "source": [
    "result=cursor.fetchall()"
   ]
  },
  {
   "cell_type": "code",
   "execution_count": 68,
   "id": "3a00905c",
   "metadata": {},
   "outputs": [
    {
     "name": "stdout",
     "output_type": "stream",
     "text": [
      "('OrderID', 'TableNo', 'MenuID', 'BookingID', 'BillAmount', 'Quantity')\n",
      "[(1, 1, 1, 1, 86, 2), (1, 12, 1, 1, 86, 2), (2, 19, 2, 2, 37, 1), (3, 15, 2, 3, 37, 1), (4, 5, 3, 4, 40, 1), (5, 8, 1, 5, 43, 1)]\n"
     ]
    }
   ],
   "source": [
    "columns = cursor.column_names\n",
    "print(columns)\n",
    "print(result)"
   ]
  },
  {
   "cell_type": "code",
   "execution_count": 64,
   "id": "8e5a43c1",
   "metadata": {},
   "outputs": [],
   "source": [
    "read_data_query =\"\"\"SELECT * FROM Orders\"\"\""
   ]
  },
  {
   "cell_type": "code",
   "execution_count": 65,
   "id": "1d555794",
   "metadata": {},
   "outputs": [],
   "source": [
    "cursor.execute(read_data_query)"
   ]
  },
  {
   "cell_type": "code",
   "execution_count": 66,
   "id": "5f066906",
   "metadata": {},
   "outputs": [],
   "source": [
    "result=cursor.fetchall()"
   ]
  },
  {
   "cell_type": "code",
   "execution_count": 67,
   "id": "770a9bfd",
   "metadata": {},
   "outputs": [
    {
     "name": "stdout",
     "output_type": "stream",
     "text": [
      "[(1, 1, 1, 1, 86, 2), (1, 12, 1, 1, 86, 2), (2, 19, 2, 2, 37, 1), (3, 15, 2, 3, 37, 1), (4, 5, 3, 4, 40, 1), (5, 8, 1, 5, 43, 1)]\n"
     ]
    }
   ],
   "source": [
    "print(result)"
   ]
  },
  {
   "cell_type": "code",
   "execution_count": 76,
   "id": "5d202b2d",
   "metadata": {},
   "outputs": [],
   "source": [
    "stored_procedure_query=\"\"\"\n",
    "CREATE PROCEDURE GetCustomersAndBillAmount_()\n",
    "BEGIN\n",
    "SELECT Bookings.BookingID,\n",
    "CONCAT(Bookings.GuestFirstname,' ',GuestLastName) AS\n",
    "CustomerName,\n",
    "Orders.BillAmount\n",
    "FROM Bookings\n",
    "INNER JOIN\n",
    "ORDERS ON Bookings.BookingID=Orders.BookingID\n",
    "WHERE BillAmount>=50\n",
    "ORDER BY BillAmount DESC;\n",
    "END\n",
    "\"\"\""
   ]
  },
  {
   "cell_type": "code",
   "execution_count": 77,
   "id": "cee663a2",
   "metadata": {},
   "outputs": [],
   "source": [
    "cursor.execute(stored_procedure_query)"
   ]
  },
  {
   "cell_type": "code",
   "execution_count": 79,
   "id": "aa6c749d",
   "metadata": {},
   "outputs": [
    {
     "data": {
      "text/plain": [
       "()"
      ]
     },
     "execution_count": 79,
     "metadata": {},
     "output_type": "execute_result"
    }
   ],
   "source": [
    "cursor.callproc(\"GetCustomersAndBillAmount_\")"
   ]
  },
  {
   "cell_type": "code",
   "execution_count": 80,
   "id": "f3184009",
   "metadata": {},
   "outputs": [],
   "source": [
    "results=next(cursor.stored_results())"
   ]
  },
  {
   "cell_type": "code",
   "execution_count": 81,
   "id": "c838ed00",
   "metadata": {},
   "outputs": [],
   "source": [
    "dataset=results.fetchall()"
   ]
  },
  {
   "cell_type": "code",
   "execution_count": 82,
   "id": "1df422f3",
   "metadata": {},
   "outputs": [
    {
     "name": "stdout",
     "output_type": "stream",
     "text": [
      "(1, 'Anna Iversen', 86)\n",
      "(1, 'Anna Iversen', 86)\n"
     ]
    }
   ],
   "source": [
    "for data in dataset:\n",
    "    print(data)"
   ]
  },
  {
   "cell_type": "code",
   "execution_count": null,
   "id": "45871fe8",
   "metadata": {},
   "outputs": [],
   "source": []
  }
 ],
 "metadata": {
  "kernelspec": {
   "display_name": "Python 3 (ipykernel)",
   "language": "python",
   "name": "python3"
  },
  "language_info": {
   "codemirror_mode": {
    "name": "ipython",
    "version": 3
   },
   "file_extension": ".py",
   "mimetype": "text/x-python",
   "name": "python",
   "nbconvert_exporter": "python",
   "pygments_lexer": "ipython3",
   "version": "3.9.13"
  }
 },
 "nbformat": 4,
 "nbformat_minor": 5
}
