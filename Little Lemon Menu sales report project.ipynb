{
 "cells": [
  {
   "cell_type": "code",
   "execution_count": 2,
   "id": "49f4674d",
   "metadata": {},
   "outputs": [
    {
     "name": "stdout",
     "output_type": "stream",
     "text": [
      "The connection pool is created with a name: pool_b\n",
      "The pool size is: 2\n"
     ]
    }
   ],
   "source": [
    "from mysql.connector.pooling import MySQLConnectionPool\n",
    "from mysql.connector import Error\n",
    "\n",
    "dbconfig={\"database\":\"little_lemon\",\"user\":\"Ola\",\"password\":\"azeez\"}\n",
    "\n",
    "try:\n",
    "    pool=MySQLConnectionPool(pool_name=\"pool_b\",pool_size=2,**dbconfig)\n",
    "    print(\"The connection pool is created with a name:\",pool.pool_name)\n",
    "    print(\"The pool size is:\",pool.pool_size)\n",
    "except Error as er:\n",
    "    print(\"Error code:\",er.errno)\n",
    "    print(\"Error message,\",er.msg)"
   ]
  },
  {
   "cell_type": "markdown",
   "id": "06f7820a",
   "metadata": {},
   "source": [
    "Task 2"
   ]
  },
  {
   "cell_type": "code",
   "execution_count": 20,
   "id": "41d6e90a",
   "metadata": {},
   "outputs": [
    {
     "ename": "PoolError",
     "evalue": "Failed getting connection; pool exhausted",
     "output_type": "error",
     "traceback": [
      "\u001b[0;31m---------------------------------------------------------------------------\u001b[0m",
      "\u001b[0;31mEmpty\u001b[0m                                     Traceback (most recent call last)",
      "\u001b[0;32m~/opt/anaconda3/lib/python3.9/site-packages/mysql/connector/pooling.py\u001b[0m in \u001b[0;36mget_connection\u001b[0;34m(self)\u001b[0m\n\u001b[1;32m    576\u001b[0m             \u001b[0;32mtry\u001b[0m\u001b[0;34m:\u001b[0m\u001b[0;34m\u001b[0m\u001b[0;34m\u001b[0m\u001b[0m\n\u001b[0;32m--> 577\u001b[0;31m                 \u001b[0mcnx\u001b[0m \u001b[0;34m=\u001b[0m \u001b[0mself\u001b[0m\u001b[0;34m.\u001b[0m\u001b[0m_cnx_queue\u001b[0m\u001b[0;34m.\u001b[0m\u001b[0mget\u001b[0m\u001b[0;34m(\u001b[0m\u001b[0mblock\u001b[0m\u001b[0;34m=\u001b[0m\u001b[0;32mFalse\u001b[0m\u001b[0;34m)\u001b[0m\u001b[0;34m\u001b[0m\u001b[0;34m\u001b[0m\u001b[0m\n\u001b[0m\u001b[1;32m    578\u001b[0m             \u001b[0;32mexcept\u001b[0m \u001b[0mqueue\u001b[0m\u001b[0;34m.\u001b[0m\u001b[0mEmpty\u001b[0m \u001b[0;32mas\u001b[0m \u001b[0merr\u001b[0m\u001b[0;34m:\u001b[0m\u001b[0;34m\u001b[0m\u001b[0;34m\u001b[0m\u001b[0m\n",
      "\u001b[0;32m~/opt/anaconda3/lib/python3.9/queue.py\u001b[0m in \u001b[0;36mget\u001b[0;34m(self, block, timeout)\u001b[0m\n\u001b[1;32m    167\u001b[0m                 \u001b[0;32mif\u001b[0m \u001b[0;32mnot\u001b[0m \u001b[0mself\u001b[0m\u001b[0;34m.\u001b[0m\u001b[0m_qsize\u001b[0m\u001b[0;34m(\u001b[0m\u001b[0;34m)\u001b[0m\u001b[0;34m:\u001b[0m\u001b[0;34m\u001b[0m\u001b[0;34m\u001b[0m\u001b[0m\n\u001b[0;32m--> 168\u001b[0;31m                     \u001b[0;32mraise\u001b[0m \u001b[0mEmpty\u001b[0m\u001b[0;34m\u001b[0m\u001b[0;34m\u001b[0m\u001b[0m\n\u001b[0m\u001b[1;32m    169\u001b[0m             \u001b[0;32melif\u001b[0m \u001b[0mtimeout\u001b[0m \u001b[0;32mis\u001b[0m \u001b[0;32mNone\u001b[0m\u001b[0;34m:\u001b[0m\u001b[0;34m\u001b[0m\u001b[0;34m\u001b[0m\u001b[0m\n",
      "\u001b[0;31mEmpty\u001b[0m: ",
      "\nThe above exception was the direct cause of the following exception:\n",
      "\u001b[0;31mPoolError\u001b[0m                                 Traceback (most recent call last)",
      "\u001b[0;32m/var/folders/7z/vbvsw94x7_j745t556c744bm0000gn/T/ipykernel_95154/1426867413.py\u001b[0m in \u001b[0;36m<module>\u001b[0;34m\u001b[0m\n\u001b[0;32m----> 1\u001b[0;31m \u001b[0mconnection\u001b[0m \u001b[0;34m=\u001b[0m \u001b[0mpool\u001b[0m\u001b[0;34m.\u001b[0m\u001b[0mget_connection\u001b[0m\u001b[0;34m(\u001b[0m\u001b[0;34m)\u001b[0m\u001b[0;34m\u001b[0m\u001b[0;34m\u001b[0m\u001b[0m\n\u001b[0m",
      "\u001b[0;32m~/opt/anaconda3/lib/python3.9/site-packages/mysql/connector/pooling.py\u001b[0m in \u001b[0;36mget_connection\u001b[0;34m(self)\u001b[0m\n\u001b[1;32m    577\u001b[0m                 \u001b[0mcnx\u001b[0m \u001b[0;34m=\u001b[0m \u001b[0mself\u001b[0m\u001b[0;34m.\u001b[0m\u001b[0m_cnx_queue\u001b[0m\u001b[0;34m.\u001b[0m\u001b[0mget\u001b[0m\u001b[0;34m(\u001b[0m\u001b[0mblock\u001b[0m\u001b[0;34m=\u001b[0m\u001b[0;32mFalse\u001b[0m\u001b[0;34m)\u001b[0m\u001b[0;34m\u001b[0m\u001b[0;34m\u001b[0m\u001b[0m\n\u001b[1;32m    578\u001b[0m             \u001b[0;32mexcept\u001b[0m \u001b[0mqueue\u001b[0m\u001b[0;34m.\u001b[0m\u001b[0mEmpty\u001b[0m \u001b[0;32mas\u001b[0m \u001b[0merr\u001b[0m\u001b[0;34m:\u001b[0m\u001b[0;34m\u001b[0m\u001b[0;34m\u001b[0m\u001b[0m\n\u001b[0;32m--> 579\u001b[0;31m                 \u001b[0;32mraise\u001b[0m \u001b[0mPoolError\u001b[0m\u001b[0;34m(\u001b[0m\u001b[0;34m\"Failed getting connection; pool exhausted\"\u001b[0m\u001b[0;34m)\u001b[0m \u001b[0;32mfrom\u001b[0m \u001b[0merr\u001b[0m\u001b[0;34m\u001b[0m\u001b[0;34m\u001b[0m\u001b[0m\n\u001b[0m\u001b[1;32m    580\u001b[0m \u001b[0;34m\u001b[0m\u001b[0m\n\u001b[1;32m    581\u001b[0m             if (\n",
      "\u001b[0;31mPoolError\u001b[0m: Failed getting connection; pool exhausted"
     ]
    }
   ],
   "source": [
    "connection = pool.get_connection()"
   ]
  },
  {
   "cell_type": "code",
   "execution_count": 4,
   "id": "f587b571",
   "metadata": {},
   "outputs": [
    {
     "name": "stdout",
     "output_type": "stream",
     "text": [
      "A user with connection id 97 is connected to the database.\n"
     ]
    }
   ],
   "source": [
    "print(\"A user with connection id {} is connected to the database.\".format(\n",
    "    connection1.connection_id))"
   ]
  },
  {
   "cell_type": "code",
   "execution_count": 6,
   "id": "d3e4f9e5",
   "metadata": {},
   "outputs": [],
   "source": [
    "cursor = connection.cursor()"
   ]
  },
  {
   "cell_type": "code",
   "execution_count": 7,
   "id": "684beb6e",
   "metadata": {},
   "outputs": [],
   "source": [
    "booking1 = \"\"\"\n",
    "INSERT INTO Bookings\n",
    "(TableNo, GuestFirstName, GuestLastName, BookingSlot, EmployeeID)\n",
    "VALUES(8,'Anees','Java','18:00:00',6);\"\"\""
   ]
  },
  {
   "cell_type": "code",
   "execution_count": 8,
   "id": "f1cae7d3",
   "metadata": {},
   "outputs": [],
   "source": [
    "cursor.execute(booking1)"
   ]
  },
  {
   "cell_type": "code",
   "execution_count": 9,
   "id": "886205c4",
   "metadata": {},
   "outputs": [
    {
     "name": "stdout",
     "output_type": "stream",
     "text": [
      "A new booking is added in the \"Bookings\" table.\n"
     ]
    }
   ],
   "source": [
    "connection.commit()\n",
    "print(\"\"\"A new booking is added in the \"Bookings\" table.\"\"\")"
   ]
  },
  {
   "cell_type": "code",
   "execution_count": 10,
   "id": "c2a94a20",
   "metadata": {},
   "outputs": [
    {
     "name": "stdout",
     "output_type": "stream",
     "text": [
      "A new booking is added in the \"Bookings\" table.\n"
     ]
    }
   ],
   "source": [
    "connection2 = pool.get_connection()\n",
    "cursor2=connection2.cursor()\n",
    "booking2 = \"\"\"\n",
    "INSERT INTO Bookings\n",
    "(TableNo, GuestFirstName, GuestLastName, BookingSlot, EmployeeID)\n",
    "VALUES(5, 'Bald','Vin','19:00:00',6);\"\"\"\n",
    "cursor2.execute(booking2)\n",
    "connection2.commit()\n",
    "print(\"\"\"A new booking is added in the \"Bookings\" table.\"\"\")\n"
   ]
  },
  {
   "cell_type": "code",
   "execution_count": 12,
   "id": "a5e05f8e",
   "metadata": {},
   "outputs": [
    {
     "name": "stdout",
     "output_type": "stream",
     "text": [
      "Adding new connection to the pool\n",
      "A new connection is added in the pool.\n",
      "\n",
      "connection3 is added to the pool\n",
      "A new booking is added in the \"Booking\" table \n"
     ]
    }
   ],
   "source": [
    "# Adding a new connection to connect the third user.\n",
    "try:\n",
    "    connection3=pool.get_connection()\n",
    "    print(\"The guest is connected\")\n",
    "except:\n",
    "    print(\"Adding new connection to the pool\")\n",
    "    \n",
    "    #Create a connection\n",
    "    connection=connection.connect(user='Ola',password='azeez')\n",
    "    #Add the connection intot the pool\n",
    "    pool.add_connection(cnx=connection)\n",
    "    print(\"A new connection is added in the pool.\\n\")\n",
    "    \n",
    "    connection3 = pool.get_connection()\n",
    "    print(\"connection3 is added to the pool\")\n",
    "    \n",
    "#connect the third guest \n",
    "cursor3=connection3.cursor()\n",
    "booking3=\"\"\"\n",
    "INSERT INTO Bookings\n",
    "(TableNo, GuestFirstName, GuestLastName, BookingSlot, EmployeeID)\n",
    "VALUES(12, 'Jay','Kon','19:30:00',6);\"\"\"\n",
    "cursor3.execute(booking3)\n",
    "connection3.commit()\n",
    "print(\"\"\"A new booking is added in the \"Booking\" table \"\"\")"
   ]
  },
  {
   "cell_type": "code",
   "execution_count": 18,
   "id": "a85b31af",
   "metadata": {},
   "outputs": [
    {
     "ename": "AttributeError",
     "evalue": "'NoneType' object has no attribute 'close'",
     "output_type": "error",
     "traceback": [
      "\u001b[0;31m---------------------------------------------------------------------------\u001b[0m",
      "\u001b[0;31mAttributeError\u001b[0m                            Traceback (most recent call last)",
      "\u001b[0;32m/var/folders/7z/vbvsw94x7_j745t556c744bm0000gn/T/ipykernel_95154/2466475610.py\u001b[0m in \u001b[0;36m<module>\u001b[0;34m\u001b[0m\n\u001b[1;32m      2\u001b[0m \u001b[0;32mfor\u001b[0m \u001b[0mconnection\u001b[0m \u001b[0;32min\u001b[0m \u001b[0;34m[\u001b[0m\u001b[0mconnection\u001b[0m\u001b[0;34m,\u001b[0m\u001b[0mconnection2\u001b[0m\u001b[0;34m,\u001b[0m\u001b[0mconnection3\u001b[0m\u001b[0;34m]\u001b[0m\u001b[0;34m:\u001b[0m\u001b[0;34m\u001b[0m\u001b[0;34m\u001b[0m\u001b[0m\n\u001b[1;32m      3\u001b[0m     \u001b[0;32mtry\u001b[0m\u001b[0;34m:\u001b[0m\u001b[0;34m\u001b[0m\u001b[0;34m\u001b[0m\u001b[0m\n\u001b[0;32m----> 4\u001b[0;31m         \u001b[0mconnection\u001b[0m\u001b[0;34m.\u001b[0m\u001b[0mclose\u001b[0m\u001b[0;34m(\u001b[0m\u001b[0;34m)\u001b[0m\u001b[0;34m\u001b[0m\u001b[0;34m\u001b[0m\u001b[0m\n\u001b[0m\u001b[1;32m      5\u001b[0m         \u001b[0mprint\u001b[0m\u001b[0;34m(\u001b[0m\u001b[0;34m\"Connection is returned to the pool\"\u001b[0m\u001b[0;34m)\u001b[0m\u001b[0;34m\u001b[0m\u001b[0;34m\u001b[0m\u001b[0m\n\u001b[1;32m      6\u001b[0m     \u001b[0;32mexcept\u001b[0m \u001b[0mError\u001b[0m \u001b[0;32mas\u001b[0m \u001b[0mer\u001b[0m\u001b[0;34m:\u001b[0m\u001b[0;34m\u001b[0m\u001b[0;34m\u001b[0m\u001b[0m\n",
      "\u001b[0;31mAttributeError\u001b[0m: 'NoneType' object has no attribute 'close'"
     ]
    }
   ],
   "source": [
    "from mysql.connector import Error\n",
    "for connection in [connection,connection2,connection3]:\n",
    "    try:\n",
    "        connection.close()\n",
    "        print(\"Connection is returned to the pool\")\n",
    "    except Error as er:\n",
    "        print(\"\\nConnection cant be returned to the pool\")\n",
    "        print(\"Error message:\",er.msg)"
   ]
  },
  {
   "cell_type": "markdown",
   "id": "1efcf94d",
   "metadata": {},
   "source": [
    "Task3"
   ]
  },
  {
   "cell_type": "code",
   "execution_count": 28,
   "id": "e54ae176",
   "metadata": {},
   "outputs": [],
   "source": [
    "create_database_query = \"\"\"CREATE DATABASE little_lemon\"\"\""
   ]
  },
  {
   "cell_type": "code",
   "execution_count": 29,
   "id": "dd01adea",
   "metadata": {},
   "outputs": [],
   "source": [
    "use_database_query =\"\"\"USE little_lemon\"\"\""
   ]
  },
  {
   "cell_type": "code",
   "execution_count": 30,
   "id": "b956ae76",
   "metadata": {},
   "outputs": [],
   "source": [
    "cursor.execute(use_database_query)"
   ]
  },
  {
   "cell_type": "code",
   "execution_count": 31,
   "id": "5831c378",
   "metadata": {},
   "outputs": [],
   "source": [
    "create_booking_table=\"\"\"CREATE TABLE Bookings\n",
    "(BookingID INT AUTO_INCREMENT,\n",
    "TableNo INT,\n",
    "GuestFirstName VARCHAR(100) NOT NULL,\n",
    "GuestLastName VARCHAR(100) NOT NULL, \n",
    "BookingSlot TIME NOT NULL,\n",
    "EmployeeID INT, \n",
    "PRIMARY KEY (BookingID));\"\"\""
   ]
  },
  {
   "cell_type": "code",
   "execution_count": 40,
   "id": "c202fe75",
   "metadata": {},
   "outputs": [],
   "source": [
    "insert_bookings = \"\"\"\n",
    "INSERT INTO Bookings (\n",
    "BookingID, \n",
    "TableNo, \n",
    "GuestFirstName, \n",
    "GuestLastName, \n",
    "BookingSlot, \n",
    "EmployeeID)\n",
    "VALUES\n",
    "(1,12,'Anna','Iversen','19:00:00',1),\n",
    "(2, 12, 'Joakim', 'Iversen', '19:00:00', 6),\n",
    "(3, 19, 'Vanessa', 'McCarthy', '15:00:00', 3),\n",
    "(4, 15, 'Marcos', 'Romero', '17:30:00', 4),\n",
    "(5, 5, 'Hiroki', 'Yamane', '18:30:00', 2),\n",
    "(6, 8, 'Diana', 'Pinto', '20:00:00', 5);\"\"\""
   ]
  },
  {
   "cell_type": "code",
   "execution_count": 41,
   "id": "90080c6b",
   "metadata": {},
   "outputs": [],
   "source": [
    "create_employee_table=\"\"\"CREATE TABLE Employees\n",
    "(EmployeeID INT AUTO_INCREMENT,\n",
    "EmployeeName VARCHAR(100) NOT NULL,\n",
    "EmployeeRole VARCHAR(100) NOT NULL, \n",
    "PRIMARY KEY (EmployeeID));\"\"\""
   ]
  },
  {
   "cell_type": "code",
   "execution_count": 42,
   "id": "e19c49d2",
   "metadata": {},
   "outputs": [],
   "source": [
    "insert_employees=\"\"\"\n",
    "INSERT INTO Employees ( \n",
    "EmployeeID,EmployeeName,EmployeeRole)\n",
    "VALUES\n",
    "(1,'Mark Sterling',Manager),\n",
    "(2,'Ana Kendrick',Asst-Manager),\n",
    "(3,'Mathew Smith','Waiter')\n",
    "(4,'Smith Role','Server')\n",
    "(5,'Greg Ich','Security')\"\"\""
   ]
  },
  {
   "cell_type": "code",
   "execution_count": 46,
   "id": "e2488464",
   "metadata": {},
   "outputs": [],
   "source": [
    "# The name and EmployeeID of the Little Lemon manager.\n",
    "get_manager_info_query = \"\"\"\n",
    "SELECT EmployeeName, EmployeeID\n",
    "FROM Employees\n",
    "WHERE EmployeeRole =Manager' AND EmployeeID =1;\n",
    "\"\"\""
   ]
  },
  {
   "cell_type": "code",
   "execution_count": 47,
   "id": "fa6f5ca8",
   "metadata": {},
   "outputs": [
    {
     "ename": "ProgrammingError",
     "evalue": "1064 (42000): You have an error in your SQL syntax; check the manual that corresponds to your MySQL server version for the right syntax to use near '' AND EmployeeID =1' at line 3",
     "output_type": "error",
     "traceback": [
      "\u001b[0;31m---------------------------------------------------------------------------\u001b[0m",
      "\u001b[0;31mProgrammingError\u001b[0m                          Traceback (most recent call last)",
      "\u001b[0;32m/var/folders/7z/vbvsw94x7_j745t556c744bm0000gn/T/ipykernel_95154/3201567596.py\u001b[0m in \u001b[0;36m<module>\u001b[0;34m\u001b[0m\n\u001b[0;32m----> 1\u001b[0;31m \u001b[0mcursor\u001b[0m\u001b[0;34m.\u001b[0m\u001b[0mexecute\u001b[0m\u001b[0;34m(\u001b[0m\u001b[0mget_manager_info_query\u001b[0m\u001b[0;34m)\u001b[0m\u001b[0;34m\u001b[0m\u001b[0;34m\u001b[0m\u001b[0m\n\u001b[0m",
      "\u001b[0;32m~/opt/anaconda3/lib/python3.9/site-packages/mysql/connector/cursor.py\u001b[0m in \u001b[0;36mexecute\u001b[0;34m(self, operation, params, multi)\u001b[0m\n\u001b[1;32m    615\u001b[0m \u001b[0;34m\u001b[0m\u001b[0m\n\u001b[1;32m    616\u001b[0m         \u001b[0;32mtry\u001b[0m\u001b[0;34m:\u001b[0m\u001b[0;34m\u001b[0m\u001b[0;34m\u001b[0m\u001b[0m\n\u001b[0;32m--> 617\u001b[0;31m             \u001b[0mself\u001b[0m\u001b[0;34m.\u001b[0m\u001b[0m_handle_result\u001b[0m\u001b[0;34m(\u001b[0m\u001b[0mself\u001b[0m\u001b[0;34m.\u001b[0m\u001b[0m_connection\u001b[0m\u001b[0;34m.\u001b[0m\u001b[0mcmd_query\u001b[0m\u001b[0;34m(\u001b[0m\u001b[0mstmt\u001b[0m\u001b[0;34m)\u001b[0m\u001b[0;34m)\u001b[0m\u001b[0;34m\u001b[0m\u001b[0;34m\u001b[0m\u001b[0m\n\u001b[0m\u001b[1;32m    618\u001b[0m         \u001b[0;32mexcept\u001b[0m \u001b[0mInterfaceError\u001b[0m \u001b[0;32mas\u001b[0m \u001b[0merr\u001b[0m\u001b[0;34m:\u001b[0m\u001b[0;34m\u001b[0m\u001b[0;34m\u001b[0m\u001b[0m\n\u001b[1;32m    619\u001b[0m             \u001b[0;32mif\u001b[0m \u001b[0mself\u001b[0m\u001b[0;34m.\u001b[0m\u001b[0m_connection\u001b[0m\u001b[0;34m.\u001b[0m\u001b[0mhave_next_result\u001b[0m\u001b[0;34m:\u001b[0m\u001b[0;34m\u001b[0m\u001b[0;34m\u001b[0m\u001b[0m\n",
      "\u001b[0;32m~/opt/anaconda3/lib/python3.9/site-packages/mysql/connector/opentelemetry/context_propagation.py\u001b[0m in \u001b[0;36mwrapper\u001b[0;34m(cnx, *args, **kwargs)\u001b[0m\n\u001b[1;32m     75\u001b[0m         \u001b[0;34m\"\"\"Context propagation decorator.\"\"\"\u001b[0m\u001b[0;34m\u001b[0m\u001b[0;34m\u001b[0m\u001b[0m\n\u001b[1;32m     76\u001b[0m         \u001b[0;32mif\u001b[0m \u001b[0;32mnot\u001b[0m \u001b[0mOTEL_ENABLED\u001b[0m \u001b[0;32mor\u001b[0m \u001b[0;32mnot\u001b[0m \u001b[0mcnx\u001b[0m\u001b[0;34m.\u001b[0m\u001b[0motel_context_propagation\u001b[0m\u001b[0;34m:\u001b[0m\u001b[0;34m\u001b[0m\u001b[0;34m\u001b[0m\u001b[0m\n\u001b[0;32m---> 77\u001b[0;31m             \u001b[0;32mreturn\u001b[0m \u001b[0mmethod\u001b[0m\u001b[0;34m(\u001b[0m\u001b[0mcnx\u001b[0m\u001b[0;34m,\u001b[0m \u001b[0;34m*\u001b[0m\u001b[0margs\u001b[0m\u001b[0;34m,\u001b[0m \u001b[0;34m**\u001b[0m\u001b[0mkwargs\u001b[0m\u001b[0;34m)\u001b[0m\u001b[0;34m\u001b[0m\u001b[0;34m\u001b[0m\u001b[0m\n\u001b[0m\u001b[1;32m     78\u001b[0m \u001b[0;34m\u001b[0m\u001b[0m\n\u001b[1;32m     79\u001b[0m         \u001b[0mcurrent_span\u001b[0m \u001b[0;34m=\u001b[0m \u001b[0mtrace\u001b[0m\u001b[0;34m.\u001b[0m\u001b[0mget_current_span\u001b[0m\u001b[0;34m(\u001b[0m\u001b[0;34m)\u001b[0m\u001b[0;34m\u001b[0m\u001b[0;34m\u001b[0m\u001b[0m\n",
      "\u001b[0;32m~/opt/anaconda3/lib/python3.9/site-packages/mysql/connector/connection.py\u001b[0m in \u001b[0;36mcmd_query\u001b[0;34m(self, query, raw, buffered, raw_as_string)\u001b[0m\n\u001b[1;32m   1067\u001b[0m         \u001b[0mquery\u001b[0m \u001b[0;34m=\u001b[0m \u001b[0mbytes\u001b[0m\u001b[0;34m(\u001b[0m\u001b[0mpacket\u001b[0m\u001b[0;34m)\u001b[0m\u001b[0;34m\u001b[0m\u001b[0;34m\u001b[0m\u001b[0m\n\u001b[1;32m   1068\u001b[0m         \u001b[0;32mtry\u001b[0m\u001b[0;34m:\u001b[0m\u001b[0;34m\u001b[0m\u001b[0;34m\u001b[0m\u001b[0m\n\u001b[0;32m-> 1069\u001b[0;31m             \u001b[0mresult\u001b[0m \u001b[0;34m=\u001b[0m \u001b[0mself\u001b[0m\u001b[0;34m.\u001b[0m\u001b[0m_handle_result\u001b[0m\u001b[0;34m(\u001b[0m\u001b[0mself\u001b[0m\u001b[0;34m.\u001b[0m\u001b[0m_send_cmd\u001b[0m\u001b[0;34m(\u001b[0m\u001b[0mServerCmd\u001b[0m\u001b[0;34m.\u001b[0m\u001b[0mQUERY\u001b[0m\u001b[0;34m,\u001b[0m \u001b[0mquery\u001b[0m\u001b[0;34m)\u001b[0m\u001b[0;34m)\u001b[0m\u001b[0;34m\u001b[0m\u001b[0;34m\u001b[0m\u001b[0m\n\u001b[0m\u001b[1;32m   1070\u001b[0m         \u001b[0;32mexcept\u001b[0m \u001b[0mProgrammingError\u001b[0m \u001b[0;32mas\u001b[0m \u001b[0merr\u001b[0m\u001b[0;34m:\u001b[0m\u001b[0;34m\u001b[0m\u001b[0;34m\u001b[0m\u001b[0m\n\u001b[1;32m   1071\u001b[0m             \u001b[0;32mif\u001b[0m \u001b[0merr\u001b[0m\u001b[0;34m.\u001b[0m\u001b[0merrno\u001b[0m \u001b[0;34m==\u001b[0m \u001b[0;36m3948\u001b[0m \u001b[0;32mand\u001b[0m \u001b[0;34m\"Loading local data is disabled\"\u001b[0m \u001b[0;32min\u001b[0m \u001b[0merr\u001b[0m\u001b[0;34m.\u001b[0m\u001b[0mmsg\u001b[0m\u001b[0;34m:\u001b[0m\u001b[0;34m\u001b[0m\u001b[0;34m\u001b[0m\u001b[0m\n",
      "\u001b[0;32m~/opt/anaconda3/lib/python3.9/site-packages/mysql/connector/connection.py\u001b[0m in \u001b[0;36m_handle_result\u001b[0;34m(self, packet)\u001b[0m\n\u001b[1;32m    844\u001b[0m             \u001b[0;32mreturn\u001b[0m \u001b[0mself\u001b[0m\u001b[0;34m.\u001b[0m\u001b[0m_handle_eof\u001b[0m\u001b[0;34m(\u001b[0m\u001b[0mpacket\u001b[0m\u001b[0;34m)\u001b[0m\u001b[0;34m\u001b[0m\u001b[0;34m\u001b[0m\u001b[0m\n\u001b[1;32m    845\u001b[0m         \u001b[0;32mif\u001b[0m \u001b[0mpacket\u001b[0m\u001b[0;34m[\u001b[0m\u001b[0;36m4\u001b[0m\u001b[0;34m]\u001b[0m \u001b[0;34m==\u001b[0m \u001b[0;36m255\u001b[0m\u001b[0;34m:\u001b[0m\u001b[0;34m\u001b[0m\u001b[0;34m\u001b[0m\u001b[0m\n\u001b[0;32m--> 846\u001b[0;31m             \u001b[0;32mraise\u001b[0m \u001b[0mget_exception\u001b[0m\u001b[0;34m(\u001b[0m\u001b[0mpacket\u001b[0m\u001b[0;34m)\u001b[0m\u001b[0;34m\u001b[0m\u001b[0;34m\u001b[0m\u001b[0m\n\u001b[0m\u001b[1;32m    847\u001b[0m \u001b[0;34m\u001b[0m\u001b[0m\n\u001b[1;32m    848\u001b[0m         \u001b[0;31m# We have a text result set\u001b[0m\u001b[0;34m\u001b[0m\u001b[0;34m\u001b[0m\u001b[0m\n",
      "\u001b[0;31mProgrammingError\u001b[0m: 1064 (42000): You have an error in your SQL syntax; check the manual that corresponds to your MySQL server version for the right syntax to use near '' AND EmployeeID =1' at line 3"
     ]
    }
   ],
   "source": [
    "cursor.execute(get_manager_info_query)"
   ]
  },
  {
   "cell_type": "code",
   "execution_count": null,
   "id": "b8a5236a",
   "metadata": {},
   "outputs": [],
   "source": [
    "# The name and EmployeeID of the Little Lemon manager.\n",
    "get_manager_info_query = \"\"\"\n",
    "SELECT EmployeeName, EmployeeID\n",
    "FROM Employees\n",
    "WHERE Role = 'Manager' AND RestaurantID = 1;\n",
    "\"\"\"\n",
    "cursor.execute(get_manager_info_query)\n",
    "manager_info = cursor.fetchall()\n",
    "print(\"Manager Information:\")\n",
    "print(manager_info)\n",
    "\n",
    "# The name and role of the employee who receives the highest salary.\n",
    "highest_salary_employee_query = \"\"\"\n",
    "SELECT EmployeeName, Role\n",
    "FROM Employees\n",
    "ORDER BY Salary DESC\n",
    "LIMIT 1;\n",
    "\"\"\"\n",
    "cursor.execute(highest_salary_employee_query)\n",
    "highest_salary_employee = cursor.fetchall()\n",
    "print(\"\\nEmployee with the Highest Salary:\")\n",
    "print(highest_salary_employee)\n",
    "\n",
    "# The number of guests booked between 18:00 and 20:00.\n",
    "guests_booked_query = \"\"\"\n",
    "SELECT COUNT(*) as NumberOfGuests\n",
    "FROM Bookings\n",
    "WHERE BookingSlot BETWEEN '18:00:00' AND '20:00:00';\n",
    "\"\"\"\n",
    "cursor.execute(guests_booked_query)\n",
    "number_of_guests = cursor.fetchall()\n",
    "print(\"\\nNumber of Guests Booked between 18:00 and 20:00:\")\n",
    "print(number_of_guests)\n",
    "\n",
    "# The full name and BookingID of all guests waiting to be seated with the receptionist\n",
    "# in sorted order with respect to their BookingSlot.\n",
    "waiting_guests_query = \"\"\"\n",
    "SELECT CONCAT(GuestFirstName, ' ', GuestLastName) AS FullName, BookingID\n",
    "FROM Bookings\n",
    "WHERE BookingSlot > NOW()\n",
    "ORDER BY BookingSlot;\n",
    "\"\"\"\n",
    "cursor.execute(waiting_guests_query)\n",
    "waiting_guests = cursor.fetchall()\n",
    "print(\"\\nWaiting Guests Information:\")\n",
    "print(waiting_guests)"
   ]
  },
  {
   "cell_type": "code",
   "execution_count": 48,
   "id": "4e734285",
   "metadata": {},
   "outputs": [],
   "source": [
    "# The number of guests booked between 18:00 and 20:00.\n",
    "guests_booked_query = \"\"\"\n",
    "SELECT COUNT(*) as NumberOfGuests\n",
    "FROM Bookings\n",
    "WHERE BookingSlot BETWEEN '18:00:00' AND '20:00:00';\n",
    "\"\"\""
   ]
  },
  {
   "cell_type": "code",
   "execution_count": 49,
   "id": "18fbd6fc",
   "metadata": {},
   "outputs": [],
   "source": [
    "cursor.execute(guests_booked_query)"
   ]
  },
  {
   "cell_type": "code",
   "execution_count": 50,
   "id": "399717aa",
   "metadata": {},
   "outputs": [],
   "source": [
    "number_of_guests = cursor.fetchall()"
   ]
  },
  {
   "cell_type": "code",
   "execution_count": 52,
   "id": "a5dca623",
   "metadata": {},
   "outputs": [
    {
     "name": "stdout",
     "output_type": "stream",
     "text": [
      "\n",
      "Number of Guests Booked between 18:00 and 20:00:\n",
      "[(13,)]\n"
     ]
    }
   ],
   "source": [
    "print(\"\\nNumber of Guests Booked between 18:00 and 20:00:\")\n",
    "print(number_of_guests)"
   ]
  },
  {
   "cell_type": "code",
   "execution_count": 53,
   "id": "1f2ce481",
   "metadata": {},
   "outputs": [],
   "source": [
    "# The full name and BookingID of all guests waiting to be seated with the receptionist\n",
    "# in sorted order with respect to their BookingSlot.\n",
    "waiting_guests_query = \"\"\"\n",
    "SELECT CONCAT(GuestFirstName, ' ', GuestLastName) AS FullName, BookingID\n",
    "FROM Bookings\n",
    "WHERE BookingSlot > NOW()\n",
    "ORDER BY BookingSlot;\n",
    "\"\"\""
   ]
  },
  {
   "cell_type": "code",
   "execution_count": 54,
   "id": "83595be7",
   "metadata": {},
   "outputs": [],
   "source": [
    "cursor.execute(waiting_guests_query)"
   ]
  },
  {
   "cell_type": "code",
   "execution_count": 56,
   "id": "3477df4c",
   "metadata": {},
   "outputs": [],
   "source": [
    "waiting_guests = cursor.fetchall()"
   ]
  },
  {
   "cell_type": "code",
   "execution_count": 57,
   "id": "fa30c66d",
   "metadata": {},
   "outputs": [
    {
     "name": "stdout",
     "output_type": "stream",
     "text": [
      "\n",
      "Waiting Guests Information:\n",
      "[('Diana Pinto', 6)]\n"
     ]
    }
   ],
   "source": [
    "print(\"\\nWaiting Guests Information:\")\n",
    "print(waiting_guests)"
   ]
  },
  {
   "cell_type": "code",
   "execution_count": 58,
   "id": "f5987b9e",
   "metadata": {},
   "outputs": [],
   "source": [
    "stored_procedure_query=\"\"\"\n",
    "CREATE PROCEDURE BasicSalesReport()\n",
    "BEGIN\n",
    "    DECLARE totalSales DECIMAL(10, 2);\n",
    "    DECLARE avgSale DECIMAL(10, 2);\n",
    "    DECLARE minBillPaid DECIMAL(10, 2);\n",
    "    DECLARE maxBillPaid DECIMAL(10, 2);\n",
    "    \n",
    "    SELECT SUM(BillAmount) INTO totalSales FROM Orders;\n",
    "    SELECT AVG(BillAmount) INTO avgSale FROM Orders;\n",
    "    SELECT MIN(BillAmount) INTO minBillPaid FROM Orders;\n",
    "    SELECT MAX(BillAmount) INTO maxBillPaid FROM Orders;\n",
    "    \n",
    "    SELECT totalSales AS TotalSales, avgSale AS AverageSale, minBillPaid AS MinBillPaid, maxBillPaid AS MaxBillPaid;\n",
    "    \n",
    "    \n",
    "END\n",
    "\"\"\""
   ]
  },
  {
   "cell_type": "code",
   "execution_count": 59,
   "id": "68e37769",
   "metadata": {},
   "outputs": [],
   "source": [
    "cursor.execute(stored_procedure_query)"
   ]
  },
  {
   "cell_type": "code",
   "execution_count": 60,
   "id": "8f0e2e23",
   "metadata": {},
   "outputs": [
    {
     "data": {
      "text/plain": [
       "()"
      ]
     },
     "execution_count": 60,
     "metadata": {},
     "output_type": "execute_result"
    }
   ],
   "source": [
    "cursor.callproc(\"BasicSalesReport\")"
   ]
  },
  {
   "cell_type": "code",
   "execution_count": 61,
   "id": "c2082714",
   "metadata": {},
   "outputs": [],
   "source": [
    "results=next(cursor.stored_results())"
   ]
  },
  {
   "cell_type": "code",
   "execution_count": 62,
   "id": "ed11fe66",
   "metadata": {},
   "outputs": [],
   "source": [
    "dataset=results.fetchall()"
   ]
  },
  {
   "cell_type": "code",
   "execution_count": 64,
   "id": "fd88f27b",
   "metadata": {},
   "outputs": [
    {
     "name": "stdout",
     "output_type": "stream",
     "text": [
      "['TotalSales', 'AverageSale', 'MinBillPaid', 'MaxBillPaid']\n",
      "(Decimal('329.00'), Decimal('54.83'), Decimal('37.00'), Decimal('86.00'))\n"
     ]
    }
   ],
   "source": [
    "for column_id in cursor.stored_results():\n",
    "    columns=[column[0] for column in column_id.description]\n",
    "    print(columns)\n",
    "for data in dataset:\n",
    "    print(data)"
   ]
  },
  {
   "cell_type": "code",
   "execution_count": null,
   "id": "5bfab069",
   "metadata": {},
   "outputs": [],
   "source": []
  }
 ],
 "metadata": {
  "kernelspec": {
   "display_name": "Python 3 (ipykernel)",
   "language": "python",
   "name": "python3"
  },
  "language_info": {
   "codemirror_mode": {
    "name": "ipython",
    "version": 3
   },
   "file_extension": ".py",
   "mimetype": "text/x-python",
   "name": "python",
   "nbconvert_exporter": "python",
   "pygments_lexer": "ipython3",
   "version": "3.9.13"
  }
 },
 "nbformat": 4,
 "nbformat_minor": 5
}
